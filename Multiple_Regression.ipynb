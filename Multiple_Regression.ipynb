{
  "nbformat": 4,
  "nbformat_minor": 0,
  "metadata": {
    "colab": {
      "provenance": []
    },
    "kernelspec": {
      "name": "python3",
      "display_name": "Python 3"
    },
    "language_info": {
      "name": "python"
    }
  },
  "cells": [
    {
      "cell_type": "code",
      "execution_count": null,
      "metadata": {
        "id": "cHpbLqXKGev6"
      },
      "outputs": [],
      "source": [
        "import numpy as np\n",
        "import scipy as sp\n",
        "import matplotlib.pyplot as plt"
      ]
    },
    {
      "cell_type": "code",
      "source": [
        "# Regression Data\n",
        "r_data = np.array([[1, 2, 3, 4, 4, 6, 7, 9], [1, 4, 9, 20, 15, 35, 48, 100]])\n",
        "\n",
        "# Degree of Polynomial\n",
        "n = 3\n",
        "\n",
        "# Coefficient Matrix\n",
        "c_matrix = np.zeros((n+1, n+1))\n",
        "for i in range(0, n+1):\n",
        "  for j in range(0, n+1):\n",
        "    c_matrix[i][j] = np.sum(r_data[0, :] ** (i + j))\n",
        "\n",
        "# Y Value Matrix\n",
        "y_matrix = np.zeros((n+1, 1))\n",
        "for i in range(0, n+1):\n",
        "  y_matrix[i][0] = np.sum(r_data[1, :] * (r_data[0, :] ** (i)))\n",
        "\n",
        "# Inverse of Coefficient Matrix\n",
        "inv_c_matrix = sp.linalg.inv(c_matrix)\n",
        "\n",
        "# Multiply Inverse Coefficient Matrix and Y Value Matrix to get Solution Matrix\n",
        "s_matrix = np.dot(inv_c_matrix, y_matrix)\n",
        "\n",
        "# Graph Data\n",
        "plt.scatter(r_data[0, :], r_data[1, :])\n",
        "\n",
        "# Returns Y Value\n",
        "def y_val(coefs: np.ndarray, x: float):\n",
        "  \"\"\"Calculate y value for any polynomial with coefs\"\"\"\n",
        "  y_val = 0.0\n",
        "  for idx, coef in enumerate(coefs):\n",
        "    y_val += coef * (x ** idx)\n",
        "  return y_val\n",
        "\n",
        "# Function Graphing Function\n",
        "def poly_plot(coefs: np.ndarray):\n",
        "  x_arr = np.linspace(-10, 10, num=100)\n",
        "  y_arr = [y_val(coefs, x) for x in x_arr]\n",
        "  plt.plot(x_arr, y_arr)\n",
        "\n",
        "# Cost/Total Error Function\n",
        "def cost(data_1: np.ndarray, coefs: np.ndarray):\n",
        "  error = 0\n",
        "  for i in range(data_1.shape[1]):\n",
        "    error += (y_val(coefs, data_1[0, i]) - data_1[1, i]) ** 2\n",
        "  print(f\"Square Error: {error}\")\n",
        "\n",
        "poly_plot(s_matrix)\n",
        "cost(r_data, s_matrix)"
      ],
      "metadata": {
        "colab": {
          "base_uri": "https://localhost:8080/",
          "height": 448
        },
        "id": "M--L-XB-G1-8",
        "outputId": "049ec64a-9278-4b3b-e175-635198774a9f"
      },
      "execution_count": null,
      "outputs": [
        {
          "output_type": "stream",
          "name": "stdout",
          "text": [
            "Square Error: [26.06174928]\n"
          ]
        },
        {
          "output_type": "display_data",
          "data": {
            "text/plain": [
              "<Figure size 640x480 with 1 Axes>"
            ],
            "image/png": "[encoded data removed]"
          },
          "metadata": {}
        }
      ]
    },
    {
      "cell_type": "code",
      "source": [],
      "metadata": {
        "colab": {
          "base_uri": "https://localhost:8080/"
        },
        "id": "wBnmGqwxG8AK",
        "outputId": "e28bc9af-13a0-4bf0-fb09-d10375152d7e"
      },
      "execution_count": null,
      "outputs": [
        {
          "output_type": "execute_result",
          "data": {
            "text/plain": [
              "(2, 8)"
            ]
          },
          "metadata": {},
          "execution_count": 50
        }
      ]
    },
    {
      "cell_type": "code",
      "source": [],
      "metadata": {
        "id": "so5SHZ69ci5r"
      },
      "execution_count": null,
      "outputs": []
    }
  ]
}