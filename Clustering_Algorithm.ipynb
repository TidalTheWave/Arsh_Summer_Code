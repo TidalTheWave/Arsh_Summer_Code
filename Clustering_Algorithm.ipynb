{
  "nbformat": 4,
  "nbformat_minor": 0,
  "metadata": {
    "colab": {
      "provenance": []
    },
    "kernelspec": {
      "name": "python3",
      "display_name": "Python 3"
    },
    "language_info": {
      "name": "python"
    }
  },
  "cells": [
    {
      "cell_type": "code",
      "execution_count": null,
      "metadata": {
        "id": "uxb4Qn_YpG7H"
      },
      "outputs": [],
      "source": [
        "import numpy as np\n",
        "import random\n",
        "import matplotlib.pyplot as plt"
      ]
    },
    {
      "cell_type": "code",
      "source": [
        "# centroid function\n",
        "def centroid(points: np.ndarray):\n",
        "  cntd_x = np.sum(points[0, :]) / points.shape[1]\n",
        "  cntd_y = np.sum(points[1, :]) / points.shape[1]\n",
        "  return (cntd_x, cntd_y)"
      ],
      "metadata": {
        "id": "ddhp4ggKxKox"
      },
      "execution_count": null,
      "outputs": []
    },
    {
      "cell_type": "code",
      "source": [
        "# distance function\n",
        "# def distance(points: np.ndarray):\n",
        "#   dist_x = points[0, 1] - points[0, 0]\n",
        "#   dist_y = points[1, 1] - points[1, 0]\n",
        "#   return np.sqrt((dist_x ** 2 + dist_y ** 2))\n",
        "\n",
        "# distance function\n",
        "def distance(point_1: tuple[float, float], point_2: tuple[float, float]):\n",
        "  dist_x = point_1[0] - point_2[0]\n",
        "  dist_y = point_1[1] - point_2[1]\n",
        "  return np.sqrt((dist_x ** 2 + dist_y ** 2))\n",
        "\n",
        "distance((0, 0), (1, 1))"
      ],
      "metadata": {
        "id": "tRT-Ib6kxeaK",
        "colab": {
          "base_uri": "https://localhost:8080/"
        },
        "outputId": "26bb77ca-069c-4410-f7c0-c970c1b5e522"
      },
      "execution_count": null,
      "outputs": [
        {
          "output_type": "execute_result",
          "data": {
            "text/plain": [
              "1.4142135623730951"
            ]
          },
          "metadata": {},
          "execution_count": 3
        }
      ]
    },
    {
      "cell_type": "code",
      "source": [
        "# number of clusters\n",
        "n = 3\n",
        "\n",
        "# clustering data\n",
        "c_data = np.array([[2,3,3,1,5,8,2,5,5,4,8,7],[4,5,7,9,9,2,8,2,3,1,4,1]])\n",
        "c_data"
      ],
      "metadata": {
        "colab": {
          "base_uri": "https://localhost:8080/"
        },
        "id": "9X0bXQ9SZEtX",
        "outputId": "9637c4dd-6e53-4d75-c8e7-c88c29de9f07"
      },
      "execution_count": null,
      "outputs": [
        {
          "output_type": "execute_result",
          "data": {
            "text/plain": [
              "array([[2, 3, 3, 1, 5, 8, 2, 5, 5, 4, 8, 7],\n",
              "       [4, 5, 7, 9, 9, 2, 8, 2, 3, 1, 4, 1]])"
            ]
          },
          "metadata": {},
          "execution_count": 4
        }
      ]
    },
    {
      "cell_type": "code",
      "source": [
        "# initialize clusters\n",
        "clusters = list(range(1, n+1))\n",
        "clusters.extend(np.random.randint(low=1, high=n, size=c_data.shape[1]-n))\n",
        "random.shuffle(clusters)\n",
        "clusters = np.array(clusters)"
      ],
      "metadata": {
        "id": "XP7IpU-9ZW9W"
      },
      "execution_count": null,
      "outputs": []
    },
    {
      "cell_type": "code",
      "source": [
        "# visualize data\n",
        "for i in range(0, n):\n",
        "    plt.scatter(c_data[0, np.where(clusters == i+1)], c_data[1, np.where(clusters == i+1)], color=f'C{i}')"
      ],
      "metadata": {
        "colab": {
          "base_uri": "https://localhost:8080/",
          "height": 430
        },
        "id": "GbZ5bh0YZQX-",
        "outputId": "72883f86-5d2f-448f-c01e-406ba03f71cf"
      },
      "execution_count": null,
      "outputs": [
        {
          "output_type": "display_data",
          "data": {
            "text/plain": [
              "<Figure size 640x480 with 1 Axes>"
            ],
            "image/png": "[encoded data removed]"
          },
          "metadata": {}
        }
      ]
    },
    {
      "cell_type": "code",
      "source": [
        "# intitialize centroids\n",
        "centroids = np.zeros(shape=[2, n], dtype=float)\n",
        "centroids"
      ],
      "metadata": {
        "colab": {
          "base_uri": "https://localhost:8080/"
        },
        "id": "3CvXoYVjaUnR",
        "outputId": "509dbf40-e962-45d9-c9c8-e130edfe0298"
      },
      "execution_count": null,
      "outputs": [
        {
          "output_type": "execute_result",
          "data": {
            "text/plain": [
              "array([[0., 0., 0.],\n",
              "       [0., 0., 0.]])"
            ]
          },
          "metadata": {},
          "execution_count": 7
        }
      ]
    },
    {
      "cell_type": "code",
      "source": [
        "data_size = c_data.shape[1]\n",
        "\n",
        "for _ in range(0, 5):\n",
        "  update = False\n",
        "  # taking centroid of each cluster\n",
        "  for i in range(0, n):\n",
        "    cent_x, cent_y = centroid(c_data[:, np.where(clusters == i+1)[0]])\n",
        "    centroids[0, i] = cent_x\n",
        "    centroids[1, i] = cent_y\n",
        "\n",
        "  # edge cases\n",
        "  if n < 2:\n",
        "    break\n",
        "\n",
        "  # reclustering\n",
        "  for i in range(data_size):\n",
        "    point_1 = tuple(c_data[:,i])\n",
        "    current_centroid = tuple(centroids[:, clusters[i]-1])\n",
        "    current_dist = distance(point_1, current_centroid)\n",
        "\n",
        "    for j in range(n):\n",
        "      other_centroid = tuple(centroids[:, j])\n",
        "      other_dist = distance(point_1, other_centroid)\n",
        "      if other_dist < current_dist:\n",
        "        # assign point to the new cluster\n",
        "        clusters[i] = j+1\n",
        "        current_dist = other_dist\n",
        "        update = True\n",
        "\n",
        "  # breaks loop if nothing was changed\n",
        "  if update == False:\n",
        "    break\n",
        "\n",
        "  # plotting\n",
        "for i in range(0, centroids.shape[1]):\n",
        "  plt.scatter(centroids[0, i], centroids[1, i], color='black')\n",
        "for i in range(0, n):\n",
        "  plt.scatter(c_data[0, np.where(clusters == i+1)], c_data[1, np.where(clusters == i+1)], color=f'C{i}')\n",
        "plt.show()\n",
        "\n",
        "print(clusters)"
      ],
      "metadata": {
        "id": "cv6KNBwzpP4g",
        "colab": {
          "base_uri": "https://localhost:8080/",
          "height": 447
        },
        "outputId": "a485c641-4032-4050-c570-8610869305f3"
      },
      "execution_count": null,
      "outputs": [
        {
          "output_type": "display_data",
          "data": {
            "text/plain": [
              "<Figure size 640x480 with 1 Axes>"
            ],
            "image/png": "[encoded data removed]"
          },
          "metadata": {}
        },
        {
          "output_type": "stream",
          "name": "stdout",
          "text": [
            "[2 2 2 2 2 3 2 1 1 1 3 3]\n"
          ]
        }
      ]
    },
    {
      "cell_type": "code",
      "source": [
        "error = 0\n",
        "for i in range(data_size):\n",
        "  point = tuple(c_data[:,i])\n",
        "  own_centroid = tuple(centroids[:, clusters[i]-1])\n",
        "  dist_centroid = distance(point, own_centroid)\n",
        "  error += dist_centroid\n",
        "print(error)"
      ],
      "metadata": {
        "colab": {
          "base_uri": "https://localhost:8080/"
        },
        "id": "63O43_qAFPBN",
        "outputId": "a18bb175-f4eb-4a8a-a384-427d761cc25b"
      },
      "execution_count": null,
      "outputs": [
        {
          "output_type": "stream",
          "name": "stdout",
          "text": [
            "18.563616787617487\n"
          ]
        }
      ]
    },
    {
      "cell_type": "markdown",
      "source": [],
      "metadata": {
        "id": "JmMZ8UfYQFz5"
      }
    }
  ]
}